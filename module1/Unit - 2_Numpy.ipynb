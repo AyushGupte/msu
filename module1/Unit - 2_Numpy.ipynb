{
 "cells": [
  {
   "cell_type": "markdown",
   "id": "7dc1778e",
   "metadata": {},
   "source": [
    "# NumPy - Numerical Python"
   ]
  },
  {
   "cell_type": "code",
   "execution_count": 7,
   "id": "266c5654",
   "metadata": {},
   "outputs": [],
   "source": [
    "#import library\n",
    "\n",
    "import numpy as np"
   ]
  },
  {
   "cell_type": "code",
   "execution_count": 8,
   "id": "36142fdd",
   "metadata": {},
   "outputs": [
    {
     "data": {
      "text/plain": [
       "array([[1, 2, 3, 4],\n",
       "       [5, 6, 7, 8]])"
      ]
     },
     "execution_count": 8,
     "metadata": {},
     "output_type": "execute_result"
    }
   ],
   "source": [
    "arr = np.array([[1,2,3,4],[5,6,7,8]])\n",
    "arr"
   ]
  },
  {
   "cell_type": "code",
   "execution_count": 9,
   "id": "1c068b1e",
   "metadata": {},
   "outputs": [
    {
     "data": {
      "text/plain": [
       "3"
      ]
     },
     "execution_count": 9,
     "metadata": {},
     "output_type": "execute_result"
    }
   ],
   "source": [
    "arr[0][2]"
   ]
  },
  {
   "cell_type": "code",
   "execution_count": 10,
   "id": "1d642b71",
   "metadata": {},
   "outputs": [
    {
     "data": {
      "text/plain": [
       "7"
      ]
     },
     "execution_count": 10,
     "metadata": {},
     "output_type": "execute_result"
    }
   ],
   "source": [
    "arr[1][2]"
   ]
  },
  {
   "cell_type": "code",
   "execution_count": 11,
   "id": "c4b420db",
   "metadata": {},
   "outputs": [
    {
     "name": "stdout",
     "output_type": "stream",
     "text": [
      "2\n",
      "(2, 4)\n",
      "<memory at 0x000001D4AB5A5790>\n",
      "8\n",
      "<class 'numpy.ndarray'>\n"
     ]
    }
   ],
   "source": [
    "#dimension of array\n",
    "#shape of array\n",
    "#data of array\n",
    "#size of array\n",
    "#type of array\n",
    "\n",
    "print(arr.ndim)\n",
    "print(arr.shape)\n",
    "print(arr.data)\n",
    "print(arr.size)\n",
    "print(type(arr))"
   ]
  },
  {
   "cell_type": "markdown",
   "id": "1fb54c31",
   "metadata": {},
   "source": [
    "# LAB-1 Random Number Generator Using Numpy\n",
    "\n"
   ]
  },
  {
   "cell_type": "code",
   "execution_count": 12,
   "id": "b66e8553",
   "metadata": {},
   "outputs": [
    {
     "data": {
      "text/plain": [
       "35"
      ]
     },
     "execution_count": 12,
     "metadata": {},
     "output_type": "execute_result"
    }
   ],
   "source": [
    "from numpy import random\n",
    "x = random.randint(100)\n",
    "x"
   ]
  },
  {
   "cell_type": "code",
   "execution_count": 13,
   "id": "6e7085b6",
   "metadata": {},
   "outputs": [
    {
     "data": {
      "text/plain": [
       "array([0.76888058, 0.29217182, 0.58202788, 0.66811538, 0.56232825,\n",
       "       0.99865516, 0.25278797, 0.12182563, 0.79504599, 0.51835784,\n",
       "       0.95011561, 0.89999221, 0.39457308, 0.42923913, 0.56567785,\n",
       "       0.96172202, 0.07436026, 0.66678787, 0.6524562 , 0.20263004,\n",
       "       0.99114204, 0.44552504, 0.40622506, 0.1342697 , 0.15372695,\n",
       "       0.93068412, 0.20010083, 0.88743908, 0.26673861, 0.06799099,\n",
       "       0.36149666, 0.30115984, 0.84684267, 0.14632585, 0.1617773 ,\n",
       "       0.10257405, 0.81449644, 0.2527845 , 0.07416663, 0.96001669,\n",
       "       0.25900982, 0.09529327, 0.79977066, 0.44393445, 0.56606024,\n",
       "       0.20787102, 0.69869829, 0.12389159, 0.87959455, 0.431812  ,\n",
       "       0.03710424, 0.59798744, 0.77617933, 0.30012567, 0.37770163,\n",
       "       0.65474763, 0.14978126, 0.35140068, 0.91239676, 0.62339663,\n",
       "       0.53932098, 0.37559711, 0.37379049, 0.91759855, 0.42027634,\n",
       "       0.71705425, 0.76905192, 0.63761634, 0.18543016, 0.52684364,\n",
       "       0.74680751, 0.88109647, 0.29400112, 0.9008395 , 0.99975685,\n",
       "       0.88615761, 0.6479768 , 0.81703408, 0.01228641, 0.88957005,\n",
       "       0.6444435 , 0.0876262 , 0.331304  , 0.9499905 , 0.21363149,\n",
       "       0.84815119, 0.9848031 , 0.44914486, 0.66426829, 0.01330456,\n",
       "       0.90908282, 0.61684137, 0.52204792, 0.80123333, 0.47367924,\n",
       "       0.51282371, 0.04227615, 0.68331751, 0.48239791, 0.08009708])"
      ]
     },
     "execution_count": 13,
     "metadata": {},
     "output_type": "execute_result"
    }
   ],
   "source": [
    "y = random.rand(100)\n",
    "y"
   ]
  },
  {
   "cell_type": "code",
   "execution_count": 14,
   "id": "52a13b71",
   "metadata": {},
   "outputs": [
    {
     "data": {
      "text/plain": [
       "array([97, 31, 84, 21, 66, 54, 41, 74, 76, 45])"
      ]
     },
     "execution_count": 14,
     "metadata": {},
     "output_type": "execute_result"
    }
   ],
   "source": [
    "X = random.randint(100,size=10)\n",
    "X"
   ]
  },
  {
   "cell_type": "code",
   "execution_count": 15,
   "id": "b3271b6f",
   "metadata": {},
   "outputs": [
    {
     "data": {
      "text/plain": [
       "array([[90, 18, 45],\n",
       "       [55,  6, 10],\n",
       "       [73, 76, 42]])"
      ]
     },
     "execution_count": 15,
     "metadata": {},
     "output_type": "execute_result"
    }
   ],
   "source": [
    "Y = random.randint(100,size=(3,3))\n",
    "Y"
   ]
  },
  {
   "cell_type": "code",
   "execution_count": 16,
   "id": "0cef75c1",
   "metadata": {},
   "outputs": [
    {
     "data": {
      "text/plain": [
       "array([[0.60858643, 0.56141044],\n",
       "       [0.75602857, 0.25562765]])"
      ]
     },
     "execution_count": 16,
     "metadata": {},
     "output_type": "execute_result"
    }
   ],
   "source": [
    "z = random.random((2,2))\n",
    "z"
   ]
  },
  {
   "cell_type": "code",
   "execution_count": 17,
   "id": "c94100d2",
   "metadata": {},
   "outputs": [
    {
     "data": {
      "text/plain": [
       "array([[2, 7, 2],\n",
       "       [1, 7, 4],\n",
       "       [8, 9, 8]])"
      ]
     },
     "execution_count": 17,
     "metadata": {},
     "output_type": "execute_result"
    }
   ],
   "source": [
    "x = random.randint(10,size=(3,3))\n",
    "random.seed(6)\n",
    "x"
   ]
  },
  {
   "cell_type": "code",
   "execution_count": 18,
   "id": "480cc6d7",
   "metadata": {},
   "outputs": [
    {
     "data": {
      "text/plain": [
       "array([[0., 0., 0., 0., 0., 0., 0., 0., 0.],\n",
       "       [0., 0., 0., 0., 0., 0., 0., 0., 0.],\n",
       "       [0., 0., 0., 0., 0., 0., 0., 0., 0.]])"
      ]
     },
     "execution_count": 18,
     "metadata": {},
     "output_type": "execute_result"
    }
   ],
   "source": [
    "#zero matrix/arrays\n",
    "\n",
    "zero = np.zeros((3,9))\n",
    "zero"
   ]
  },
  {
   "cell_type": "code",
   "execution_count": 19,
   "id": "2df14627",
   "metadata": {},
   "outputs": [
    {
     "data": {
      "text/plain": [
       "array([[1., 1., 1., 1., 1.],\n",
       "       [1., 1., 1., 1., 1.],\n",
       "       [1., 1., 1., 1., 1.],\n",
       "       [1., 1., 1., 1., 1.],\n",
       "       [1., 1., 1., 1., 1.]])"
      ]
     },
     "execution_count": 19,
     "metadata": {},
     "output_type": "execute_result"
    }
   ],
   "source": [
    "#ones matrix/arrays\n",
    "\n",
    "one = np.ones((5,5))\n",
    "one"
   ]
  },
  {
   "cell_type": "code",
   "execution_count": 20,
   "id": "965681f3",
   "metadata": {},
   "outputs": [
    {
     "data": {
      "text/plain": [
       "array([[1., 0., 0., 0.],\n",
       "       [0., 1., 0., 0.],\n",
       "       [0., 0., 1., 0.],\n",
       "       [0., 0., 0., 1.]])"
      ]
     },
     "execution_count": 20,
     "metadata": {},
     "output_type": "execute_result"
    }
   ],
   "source": [
    "#identity matrix\n",
    "\n",
    "idt = np.eye(4)\n",
    "idt"
   ]
  },
  {
   "cell_type": "code",
   "execution_count": 21,
   "id": "6b35a55c",
   "metadata": {},
   "outputs": [
    {
     "data": {
      "text/plain": [
       "array([[6, 6, 6],\n",
       "       [6, 6, 6],\n",
       "       [6, 6, 6]])"
      ]
     },
     "execution_count": 21,
     "metadata": {},
     "output_type": "execute_result"
    }
   ],
   "source": [
    "#create a constant matrix\n",
    "\n",
    "const = np.full((3,3),6)\n",
    "const"
   ]
  },
  {
   "cell_type": "markdown",
   "id": "2fe681a7",
   "metadata": {},
   "source": [
    "# Array Indexing & Slicing"
   ]
  },
  {
   "cell_type": "code",
   "execution_count": 22,
   "id": "abef3b1e",
   "metadata": {},
   "outputs": [
    {
     "data": {
      "text/plain": [
       "array([[ 1,  2,  3,  4],\n",
       "       [ 5,  6,  7,  8],\n",
       "       [ 9, 10, 11, 12]])"
      ]
     },
     "execution_count": 22,
     "metadata": {},
     "output_type": "execute_result"
    }
   ],
   "source": [
    "#indexing\n",
    "arr = np.array([[1,2,3,4],[5,6,7,8],[9,10,11,12]])\n",
    "arr"
   ]
  },
  {
   "cell_type": "code",
   "execution_count": 23,
   "id": "fb82fa06",
   "metadata": {},
   "outputs": [
    {
     "data": {
      "text/plain": [
       "array([[ 6,  2,  3,  4],\n",
       "       [ 5,  6,  7,  8],\n",
       "       [ 9, 10, 11, 12]])"
      ]
     },
     "execution_count": 23,
     "metadata": {},
     "output_type": "execute_result"
    }
   ],
   "source": [
    "arr[0][0] = 6\n",
    "arr"
   ]
  },
  {
   "cell_type": "code",
   "execution_count": 24,
   "id": "108c162a",
   "metadata": {},
   "outputs": [
    {
     "name": "stdout",
     "output_type": "stream",
     "text": [
      "[[ 6  7]\n",
      " [10 11]]\n"
     ]
    },
    {
     "data": {
      "text/plain": [
       "array([[ 6,  2],\n",
       "       [ 5,  6],\n",
       "       [ 9, 10]])"
      ]
     },
     "execution_count": 24,
     "metadata": {},
     "output_type": "execute_result"
    }
   ],
   "source": [
    "#slicing\n",
    "#arr[slicing of rows,slicing of colums]\n",
    "#arr[st:end,st:end]\n",
    "print(arr[1: , 1:3])\n",
    "arr[0: ,0:2]"
   ]
  },
  {
   "cell_type": "code",
   "execution_count": 25,
   "id": "4d0e0c76",
   "metadata": {},
   "outputs": [
    {
     "data": {
      "text/plain": [
       "array([[2, 2, 2, 2],\n",
       "       [2, 2, 2, 2],\n",
       "       [2, 2, 2, 2]])"
      ]
     },
     "execution_count": 25,
     "metadata": {},
     "output_type": "execute_result"
    }
   ],
   "source": [
    "const = np.full((3,4),2)\n",
    "const"
   ]
  },
  {
   "cell_type": "markdown",
   "id": "f7f7b0e6",
   "metadata": {},
   "source": [
    "# Array Broadcasting"
   ]
  },
  {
   "cell_type": "code",
   "execution_count": 26,
   "id": "10add64f",
   "metadata": {},
   "outputs": [
    {
     "data": {
      "text/plain": [
       "array([[ 6,  2,  3,  4],\n",
       "       [ 5,  6,  7,  8],\n",
       "       [ 9, 10, 11, 12]])"
      ]
     },
     "execution_count": 26,
     "metadata": {},
     "output_type": "execute_result"
    }
   ],
   "source": [
    "arr"
   ]
  },
  {
   "cell_type": "code",
   "execution_count": 27,
   "id": "f4287b07",
   "metadata": {},
   "outputs": [
    {
     "data": {
      "text/plain": [
       "array([[2, 2, 2, 2],\n",
       "       [2, 2, 2, 2],\n",
       "       [2, 2, 2, 2]])"
      ]
     },
     "execution_count": 27,
     "metadata": {},
     "output_type": "execute_result"
    }
   ],
   "source": [
    "const"
   ]
  },
  {
   "cell_type": "code",
   "execution_count": 28,
   "id": "afc3d13d",
   "metadata": {},
   "outputs": [
    {
     "name": "stdout",
     "output_type": "stream",
     "text": [
      "[[ 8  4  5  6]\n",
      " [ 7  8  9 10]\n",
      " [11 12 13 14]]\n"
     ]
    },
    {
     "data": {
      "text/plain": [
       "array([[ 8,  4,  5,  6],\n",
       "       [ 7,  8,  9, 10],\n",
       "       [11, 12, 13, 14]])"
      ]
     },
     "execution_count": 28,
     "metadata": {},
     "output_type": "execute_result"
    }
   ],
   "source": [
    "#addition of matrix\n",
    "print(arr+const)\n",
    "(np.add(arr,const))"
   ]
  },
  {
   "cell_type": "code",
   "execution_count": 29,
   "id": "80c58770",
   "metadata": {},
   "outputs": [
    {
     "name": "stdout",
     "output_type": "stream",
     "text": [
      "[[ 4  0  1  2]\n",
      " [ 3  4  5  6]\n",
      " [ 7  8  9 10]]\n"
     ]
    },
    {
     "data": {
      "text/plain": [
       "array([[ 4,  0,  1,  2],\n",
       "       [ 3,  4,  5,  6],\n",
       "       [ 7,  8,  9, 10]])"
      ]
     },
     "execution_count": 29,
     "metadata": {},
     "output_type": "execute_result"
    }
   ],
   "source": [
    "#subtract of matrix\n",
    "print(arr-const)\n",
    "(np.subtract(arr,const))"
   ]
  },
  {
   "cell_type": "code",
   "execution_count": 30,
   "id": "3d00b82f",
   "metadata": {},
   "outputs": [
    {
     "name": "stdout",
     "output_type": "stream",
     "text": [
      "[[12  4  6  8]\n",
      " [10 12 14 16]\n",
      " [18 20 22 24]]\n"
     ]
    },
    {
     "data": {
      "text/plain": [
       "array([[12,  4,  6,  8],\n",
       "       [10, 12, 14, 16],\n",
       "       [18, 20, 22, 24]])"
      ]
     },
     "execution_count": 30,
     "metadata": {},
     "output_type": "execute_result"
    }
   ],
   "source": [
    "#multiply of matrix\n",
    "print(arr*const)\n",
    "(np.multiply(arr,const))"
   ]
  },
  {
   "cell_type": "code",
   "execution_count": 31,
   "id": "43a48580",
   "metadata": {},
   "outputs": [
    {
     "data": {
      "text/plain": [
       "array([[1.41421356, 1.41421356, 1.41421356, 1.41421356],\n",
       "       [1.41421356, 1.41421356, 1.41421356, 1.41421356],\n",
       "       [1.41421356, 1.41421356, 1.41421356, 1.41421356]])"
      ]
     },
     "execution_count": 31,
     "metadata": {},
     "output_type": "execute_result"
    }
   ],
   "source": [
    "#square root \n",
    "sq = np.sqrt(const)\n",
    "sq"
   ]
  },
  {
   "cell_type": "code",
   "execution_count": 32,
   "id": "86e74cd1",
   "metadata": {},
   "outputs": [
    {
     "data": {
      "text/plain": [
       "16.970562748477143"
      ]
     },
     "execution_count": 32,
     "metadata": {},
     "output_type": "execute_result"
    }
   ],
   "source": [
    "np.sum(sq)"
   ]
  },
  {
   "cell_type": "code",
   "execution_count": 33,
   "id": "1b9798d3",
   "metadata": {},
   "outputs": [
    {
     "data": {
      "text/plain": [
       "array([4.24264069, 4.24264069, 4.24264069, 4.24264069])"
      ]
     },
     "execution_count": 33,
     "metadata": {},
     "output_type": "execute_result"
    }
   ],
   "source": [
    "np.sum(sq,axis=0)"
   ]
  },
  {
   "cell_type": "code",
   "execution_count": 34,
   "id": "1c2f9cb2",
   "metadata": {},
   "outputs": [
    {
     "data": {
      "text/plain": [
       "array([5.65685425, 5.65685425, 5.65685425])"
      ]
     },
     "execution_count": 34,
     "metadata": {},
     "output_type": "execute_result"
    }
   ],
   "source": [
    "np.sum(sq,axis=1)"
   ]
  },
  {
   "cell_type": "code",
   "execution_count": 35,
   "id": "4df7516c",
   "metadata": {},
   "outputs": [
    {
     "data": {
      "text/plain": [
       "5.656854249492381"
      ]
     },
     "execution_count": 35,
     "metadata": {},
     "output_type": "execute_result"
    }
   ],
   "source": [
    "np.sum(sq[0],axis=0)"
   ]
  },
  {
   "cell_type": "markdown",
   "id": "84e9ad72",
   "metadata": {},
   "source": [
    "# Calculate BMI Of Player\n"
   ]
  },
  {
   "cell_type": "code",
   "execution_count": 36,
   "id": "08219631",
   "metadata": {},
   "outputs": [
    {
     "name": "stdout",
     "output_type": "stream",
     "text": [
      "[61 62 53 72 78 64 80]\n"
     ]
    },
    {
     "data": {
      "text/plain": [
       "array([1.4945, 1.519 , 1.2985, 1.764 , 1.911 , 1.568 , 1.96  ])"
      ]
     },
     "execution_count": 36,
     "metadata": {},
     "output_type": "execute_result"
    }
   ],
   "source": [
    "#height of player in inches\n",
    "\n",
    "height_in = [61,62,53,72,78,64,80]\n",
    "ht_np = np.array(height_in)\n",
    "print(ht_np)\n",
    "\n",
    "#convert into meter\n",
    "\n",
    "ht_np = ht_np*0.0245\n",
    "ht_np"
   ]
  },
  {
   "cell_type": "code",
   "execution_count": 37,
   "id": "238cf493",
   "metadata": {},
   "outputs": [
    {
     "name": "stdout",
     "output_type": "stream",
     "text": [
      "[150 123 145 162 157 130 129]\n"
     ]
    },
    {
     "data": {
      "text/plain": [
       "array([67.5 , 55.35, 65.25, 72.9 , 70.65, 58.5 , 58.05])"
      ]
     },
     "execution_count": 37,
     "metadata": {},
     "output_type": "execute_result"
    }
   ],
   "source": [
    "#weight of the player\n",
    "\n",
    "weight_pd = [150,123,145,162,157,130,129]\n",
    "wt_np = np.array(weight_pd)\n",
    "print(wt_np)\n",
    "\n",
    "#convert into kgs\n",
    "\n",
    "wt_np =wt_np*0.45\n",
    "wt_np"
   ]
  },
  {
   "cell_type": "code",
   "execution_count": 38,
   "id": "110b1cf6",
   "metadata": {},
   "outputs": [
    {
     "data": {
      "text/plain": [
       "array([30.22121594, 23.98844394, 38.69872067, 23.42773844, 19.34598257,\n",
       "       23.79379686, 15.1108913 ])"
      ]
     },
     "execution_count": 38,
     "metadata": {},
     "output_type": "execute_result"
    }
   ],
   "source": [
    "#calculate BMI\n",
    "\n",
    "bmi = wt_np/ht_np**2\n",
    "bmi"
   ]
  },
  {
   "cell_type": "code",
   "execution_count": 39,
   "id": "9805a969",
   "metadata": {},
   "outputs": [
    {
     "data": {
      "text/plain": [
       "array([23.98844394, 23.42773844, 19.34598257, 23.79379686, 15.1108913 ])"
      ]
     },
     "execution_count": 39,
     "metadata": {},
     "output_type": "execute_result"
    }
   ],
   "source": [
    "bmi[bmi<25]"
   ]
  },
  {
   "cell_type": "code",
   "execution_count": 40,
   "id": "51c0112d",
   "metadata": {},
   "outputs": [
    {
     "data": {
      "text/plain": [
       "array([30.22121594, 38.69872067])"
      ]
     },
     "execution_count": 40,
     "metadata": {},
     "output_type": "execute_result"
    }
   ],
   "source": [
    "bmi[bmi>25]"
   ]
  },
  {
   "cell_type": "code",
   "execution_count": 41,
   "id": "84ade7d4",
   "metadata": {},
   "outputs": [
    {
     "data": {
      "text/plain": [
       "array([[67.5   , 55.35  , 65.25  , 72.9   , 70.65  , 58.5   , 58.05  ],\n",
       "       [ 1.4945,  1.519 ,  1.2985,  1.764 ,  1.911 ,  1.568 ,  1.96  ]])"
      ]
     },
     "execution_count": 41,
     "metadata": {},
     "output_type": "execute_result"
    }
   ],
   "source": [
    "player = np.array([wt_np,ht_np])\n",
    "player"
   ]
  },
  {
   "cell_type": "code",
   "execution_count": 42,
   "id": "b710837e",
   "metadata": {},
   "outputs": [
    {
     "data": {
      "text/plain": [
       "(2, 7)"
      ]
     },
     "execution_count": 42,
     "metadata": {},
     "output_type": "execute_result"
    }
   ],
   "source": [
    "player.shape"
   ]
  },
  {
   "cell_type": "code",
   "execution_count": 43,
   "id": "fe3c92d0",
   "metadata": {},
   "outputs": [
    {
     "name": "stdout",
     "output_type": "stream",
     "text": [
      "(7, 2)\n"
     ]
    },
    {
     "data": {
      "text/plain": [
       "array([[67.5   ,  1.4945],\n",
       "       [55.35  ,  1.519 ],\n",
       "       [65.25  ,  1.2985],\n",
       "       [72.9   ,  1.764 ],\n",
       "       [70.65  ,  1.911 ],\n",
       "       [58.5   ,  1.568 ],\n",
       "       [58.05  ,  1.96  ]])"
      ]
     },
     "execution_count": 43,
     "metadata": {},
     "output_type": "execute_result"
    }
   ],
   "source": [
    "pT = player.T\n",
    "print(pT.shape)\n",
    "pT"
   ]
  },
  {
   "cell_type": "markdown",
   "id": "c27d456f",
   "metadata": {},
   "source": [
    "# Stastical Operation "
   ]
  },
  {
   "cell_type": "code",
   "execution_count": 59,
   "id": "e53534b4",
   "metadata": {},
   "outputs": [
    {
     "name": "stdout",
     "output_type": "stream",
     "text": [
      "1.96\n",
      "72.9\n",
      "1.2985\n",
      "55.35\n",
      "1.645\n",
      "1.568\n",
      "64.02857142857142\n",
      "65.25\n",
      "0.22317817993701802\n",
      "6.2986879100138875\n",
      "0.04980849999999999\n",
      "39.67346938775512\n",
      "[[1.         0.15317667]\n",
      " [0.15317667 1.        ]]\n"
     ]
    }
   ],
   "source": [
    "#min,max,mean,median,std,var,corrcoef,perc\n",
    "\n",
    "print(np.amax(ht_np))\n",
    "print(np.amax(wt_np))\n",
    "print(np.amin(ht_np))\n",
    "print(np.amin(wt_np))\n",
    "print(np.mean(ht_np))\n",
    "print(np.median(ht_np))\n",
    "print(np.mean(wt_np))\n",
    "print(np.median(wt_np))\n",
    "print(np.std(ht_np))\n",
    "print(np.std(wt_np))\n",
    "print(np.var(ht_np))\n",
    "print(np.var(wt_np))\n",
    "print(np.corrcoef(ht_np,wt_np))"
   ]
  },
  {
   "cell_type": "code",
   "execution_count": 60,
   "id": "dc3253e0",
   "metadata": {},
   "outputs": [
    {
     "name": "stdout",
     "output_type": "stream",
     "text": [
      "[True, False, True, False, True]\n"
     ]
    },
    {
     "data": {
      "text/plain": [
       "array([ True, False,  True, False,  True])"
      ]
     },
     "execution_count": 60,
     "metadata": {},
     "output_type": "execute_result"
    }
   ],
   "source": [
    "#boolean\n",
    "\n",
    "bools = [True,False,True,False,True]\n",
    "print(bools)\n",
    "b=np.array(bools)\n",
    "b"
   ]
  },
  {
   "cell_type": "code",
   "execution_count": 61,
   "id": "7bcd7c6f",
   "metadata": {},
   "outputs": [
    {
     "data": {
      "text/plain": [
       "3"
      ]
     },
     "execution_count": 61,
     "metadata": {},
     "output_type": "execute_result"
    }
   ],
   "source": [
    "b.sum()"
   ]
  },
  {
   "cell_type": "code",
   "execution_count": 62,
   "id": "8db554ac",
   "metadata": {},
   "outputs": [
    {
     "data": {
      "text/plain": [
       "False"
      ]
     },
     "execution_count": 62,
     "metadata": {},
     "output_type": "execute_result"
    }
   ],
   "source": [
    "b.all()"
   ]
  },
  {
   "cell_type": "code",
   "execution_count": 63,
   "id": "1931260e",
   "metadata": {},
   "outputs": [
    {
     "data": {
      "text/plain": [
       "array(['b', 'b', 'b', 'b', 'c', 'c', 'a', 'a'], dtype='<U1')"
      ]
     },
     "execution_count": 63,
     "metadata": {},
     "output_type": "execute_result"
    }
   ],
   "source": [
    "n=np.array(['b','b','b','b','c','c','a','a'])\n",
    "n"
   ]
  },
  {
   "cell_type": "code",
   "execution_count": 64,
   "id": "b0143d09",
   "metadata": {},
   "outputs": [
    {
     "data": {
      "text/plain": [
       "array(['a', 'b', 'c'], dtype='<U1')"
      ]
     },
     "execution_count": 64,
     "metadata": {},
     "output_type": "execute_result"
    }
   ],
   "source": [
    "np.unique(n)"
   ]
  },
  {
   "cell_type": "code",
   "execution_count": null,
   "id": "1d76b883",
   "metadata": {},
   "outputs": [],
   "source": []
  }
 ],
 "metadata": {
  "kernelspec": {
   "display_name": "Python 3 (ipykernel)",
   "language": "python",
   "name": "python3"
  },
  "language_info": {
   "codemirror_mode": {
    "name": "ipython",
    "version": 3
   },
   "file_extension": ".py",
   "mimetype": "text/x-python",
   "name": "python",
   "nbconvert_exporter": "python",
   "pygments_lexer": "ipython3",
   "version": "3.9.12"
  }
 },
 "nbformat": 4,
 "nbformat_minor": 5
}
