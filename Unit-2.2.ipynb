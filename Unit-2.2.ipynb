{
 "cells": [
  {
   "cell_type": "code",
   "execution_count": 5,
   "id": "2a91200e",
   "metadata": {},
   "outputs": [],
   "source": [
    "import numpy as np"
   ]
  },
  {
   "cell_type": "code",
   "execution_count": 6,
   "id": "27af9098",
   "metadata": {},
   "outputs": [
    {
     "data": {
      "text/plain": [
       "array([[0., 0., 0.],\n",
       "       [0., 0., 0.],\n",
       "       [0., 0., 0.]])"
      ]
     },
     "execution_count": 6,
     "metadata": {},
     "output_type": "execute_result"
    }
   ],
   "source": [
    "#Zeros Matrix\n",
    "\n",
    "zero=np.zeros((3,3))\n",
    "zero"
   ]
  },
  {
   "cell_type": "code",
   "execution_count": 7,
   "id": "9ac71411",
   "metadata": {},
   "outputs": [
    {
     "data": {
      "text/plain": [
       "array([[1., 1., 1.],\n",
       "       [1., 1., 1.],\n",
       "       [1., 1., 1.]])"
      ]
     },
     "execution_count": 7,
     "metadata": {},
     "output_type": "execute_result"
    }
   ],
   "source": [
    "one=np.ones((3,3))\n",
    "one"
   ]
  },
  {
   "cell_type": "code",
   "execution_count": 8,
   "id": "8feac153",
   "metadata": {},
   "outputs": [
    {
     "data": {
      "text/plain": [
       "array([[1., 0., 0.],\n",
       "       [0., 1., 0.],\n",
       "       [0., 0., 1.]])"
      ]
     },
     "execution_count": 8,
     "metadata": {},
     "output_type": "execute_result"
    }
   ],
   "source": [
    "#Identity matrix\n",
    "\n",
    "idt=np.eye(3)\n",
    "idt"
   ]
  },
  {
   "cell_type": "code",
   "execution_count": 9,
   "id": "816f05ea",
   "metadata": {},
   "outputs": [
    {
     "data": {
      "text/plain": [
       "array([[4, 4, 4],\n",
       "       [4, 4, 4],\n",
       "       [4, 4, 4]])"
      ]
     },
     "execution_count": 9,
     "metadata": {},
     "output_type": "execute_result"
    }
   ],
   "source": [
    "#Create constant matrix\n",
    "\n",
    "const=np.full((3,3),4)\n",
    "const"
   ]
  },
  {
   "cell_type": "code",
   "execution_count": 10,
   "id": "e5ea5ef1",
   "metadata": {},
   "outputs": [
    {
     "data": {
      "text/plain": [
       "array([[5, 2, 7],\n",
       "       [3, 0, 0],\n",
       "       [2, 5, 5]])"
      ]
     },
     "execution_count": 10,
     "metadata": {},
     "output_type": "execute_result"
    }
   ],
   "source": [
    "from numpy import random\n",
    "\n",
    "x=random.randint(10,size=(3,3))\n",
    "random.seed(4)\n",
    "x"
   ]
  },
  {
   "cell_type": "markdown",
   "id": "031edc87",
   "metadata": {},
   "source": [
    "# ARRAY INDEXING AND SLICING"
   ]
  },
  {
   "cell_type": "code",
   "execution_count": 11,
   "id": "8f64663c",
   "metadata": {},
   "outputs": [
    {
     "data": {
      "text/plain": [
       "array([[ 1,  2,  3,  4],\n",
       "       [ 5,  6,  7,  8],\n",
       "       [ 9, 10, 11, 12]])"
      ]
     },
     "execution_count": 11,
     "metadata": {},
     "output_type": "execute_result"
    }
   ],
   "source": [
    "arr=np.array([[1,2,3,4],[5,6,7,8],[9,10,11,12]])\n",
    "arr"
   ]
  },
  {
   "cell_type": "markdown",
   "id": "9ab4624e",
   "metadata": {},
   "source": [
    " a[0][0] a[0][1] a[0][2] a[0][3]\n",
    " a[1][0] a[1][1] a[1][2] a[1][3]\n",
    " a[2][0] a[2][1] a[2][2] a[2][3]\n",
    " a[3][0] a[3][1] a[3][2] a[3][3]"
   ]
  },
  {
   "cell_type": "code",
   "execution_count": 12,
   "id": "66c3712f",
   "metadata": {},
   "outputs": [
    {
     "data": {
      "text/plain": [
       "2"
      ]
     },
     "execution_count": 12,
     "metadata": {},
     "output_type": "execute_result"
    }
   ],
   "source": [
    "arr[0][1]"
   ]
  },
  {
   "cell_type": "code",
   "execution_count": 13,
   "id": "39b108e6",
   "metadata": {},
   "outputs": [
    {
     "data": {
      "text/plain": [
       "array([[ 1,  3,  3,  4],\n",
       "       [ 5,  6,  7,  8],\n",
       "       [ 9, 10, 11, 12]])"
      ]
     },
     "execution_count": 13,
     "metadata": {},
     "output_type": "execute_result"
    }
   ],
   "source": [
    "arr[0][1]=3\n",
    "arr"
   ]
  },
  {
   "cell_type": "code",
   "execution_count": 14,
   "id": "fc688c14",
   "metadata": {},
   "outputs": [
    {
     "data": {
      "text/plain": [
       "array([[ 6,  7],\n",
       "       [10, 11]])"
      ]
     },
     "execution_count": 14,
     "metadata": {},
     "output_type": "execute_result"
    }
   ],
   "source": [
    "#Slicing\n",
    "#arr[slicing of rows,slicing of columns]\n",
    "#arr[st:end,st:end]\n",
    "\n",
    "arr[1: ,1:3]"
   ]
  },
  {
   "cell_type": "code",
   "execution_count": 15,
   "id": "21dc7d68",
   "metadata": {},
   "outputs": [
    {
     "data": {
      "text/plain": [
       "array([[2, 2, 2, 2],\n",
       "       [2, 2, 2, 2],\n",
       "       [2, 2, 2, 2]])"
      ]
     },
     "execution_count": 15,
     "metadata": {},
     "output_type": "execute_result"
    }
   ],
   "source": [
    "const=np.full((3,4),2)\n",
    "const"
   ]
  },
  {
   "cell_type": "markdown",
   "id": "6a92a464",
   "metadata": {},
   "source": [
    "# ARRAY BROADCASTING"
   ]
  },
  {
   "cell_type": "code",
   "execution_count": 16,
   "id": "265801c7",
   "metadata": {},
   "outputs": [
    {
     "data": {
      "text/plain": [
       "array([[ 1,  3,  3,  4],\n",
       "       [ 5,  6,  7,  8],\n",
       "       [ 9, 10, 11, 12]])"
      ]
     },
     "execution_count": 16,
     "metadata": {},
     "output_type": "execute_result"
    }
   ],
   "source": [
    "arr"
   ]
  },
  {
   "cell_type": "code",
   "execution_count": 17,
   "id": "26d390e6",
   "metadata": {},
   "outputs": [
    {
     "data": {
      "text/plain": [
       "array([[2, 2, 2, 2],\n",
       "       [2, 2, 2, 2],\n",
       "       [2, 2, 2, 2]])"
      ]
     },
     "execution_count": 17,
     "metadata": {},
     "output_type": "execute_result"
    }
   ],
   "source": [
    "const"
   ]
  },
  {
   "cell_type": "code",
   "execution_count": 18,
   "id": "54791ddf",
   "metadata": {},
   "outputs": [
    {
     "name": "stdout",
     "output_type": "stream",
     "text": [
      "[[ 3  5  5  6]\n",
      " [ 7  8  9 10]\n",
      " [11 12 13 14]]\n",
      "[[ 3  5  5  6]\n",
      " [ 7  8  9 10]\n",
      " [11 12 13 14]]\n"
     ]
    }
   ],
   "source": [
    "#Addition of Matrix\n",
    "print(arr+const)\n",
    "print(np.add(arr,const))"
   ]
  },
  {
   "cell_type": "code",
   "execution_count": 19,
   "id": "803a5343",
   "metadata": {},
   "outputs": [
    {
     "name": "stdout",
     "output_type": "stream",
     "text": [
      "[[-1  1  1  2]\n",
      " [ 3  4  5  6]\n",
      " [ 7  8  9 10]]\n",
      "[[-1  1  1  2]\n",
      " [ 3  4  5  6]\n",
      " [ 7  8  9 10]]\n"
     ]
    }
   ],
   "source": [
    "#Subtraction of Matrix\n",
    "print(arr-const)\n",
    "print(np.subtract(arr,const))"
   ]
  },
  {
   "cell_type": "code",
   "execution_count": 20,
   "id": "e5e2e912",
   "metadata": {},
   "outputs": [
    {
     "name": "stdout",
     "output_type": "stream",
     "text": [
      "[[ 2  6  6  8]\n",
      " [10 12 14 16]\n",
      " [18 20 22 24]]\n",
      "[[ 2  6  6  8]\n",
      " [10 12 14 16]\n",
      " [18 20 22 24]]\n"
     ]
    }
   ],
   "source": [
    "#Multiplication of Matrix\n",
    "print(arr*const)\n",
    "print(np.multiply(arr,const))"
   ]
  },
  {
   "cell_type": "code",
   "execution_count": 21,
   "id": "6cbd1906",
   "metadata": {},
   "outputs": [
    {
     "name": "stdout",
     "output_type": "stream",
     "text": [
      "[[0.5 1.5 1.5 2. ]\n",
      " [2.5 3.  3.5 4. ]\n",
      " [4.5 5.  5.5 6. ]]\n",
      "[[0.5 1.5 1.5 2. ]\n",
      " [2.5 3.  3.5 4. ]\n",
      " [4.5 5.  5.5 6. ]]\n"
     ]
    }
   ],
   "source": [
    "#Division of Matrix\n",
    "print(arr/const)\n",
    "print(np.divide(arr,const))"
   ]
  },
  {
   "cell_type": "code",
   "execution_count": 22,
   "id": "b4fe79cd",
   "metadata": {},
   "outputs": [
    {
     "data": {
      "text/plain": [
       "array([[1.41421356, 1.41421356, 1.41421356, 1.41421356],\n",
       "       [1.41421356, 1.41421356, 1.41421356, 1.41421356],\n",
       "       [1.41421356, 1.41421356, 1.41421356, 1.41421356]])"
      ]
     },
     "execution_count": 22,
     "metadata": {},
     "output_type": "execute_result"
    }
   ],
   "source": [
    "#Square root\n",
    "\n",
    "np.sqrt(const)"
   ]
  },
  {
   "cell_type": "code",
   "execution_count": 23,
   "id": "49b0fab8",
   "metadata": {},
   "outputs": [
    {
     "data": {
      "text/plain": [
       "79"
      ]
     },
     "execution_count": 23,
     "metadata": {},
     "output_type": "execute_result"
    }
   ],
   "source": [
    "np.sum(arr)"
   ]
  },
  {
   "cell_type": "code",
   "execution_count": 24,
   "id": "035bdef5",
   "metadata": {},
   "outputs": [
    {
     "data": {
      "text/plain": [
       "16.970562748477143"
      ]
     },
     "execution_count": 24,
     "metadata": {},
     "output_type": "execute_result"
    }
   ],
   "source": [
    "np.sum(np.sqrt(const))"
   ]
  },
  {
   "cell_type": "code",
   "execution_count": 25,
   "id": "345a6261",
   "metadata": {},
   "outputs": [
    {
     "data": {
      "text/plain": [
       "array([15, 19, 21, 24])"
      ]
     },
     "execution_count": 25,
     "metadata": {},
     "output_type": "execute_result"
    }
   ],
   "source": [
    "np.sum(arr,axis=0)"
   ]
  },
  {
   "cell_type": "markdown",
   "id": "b764e188",
   "metadata": {},
   "source": [
    "# Calculate BMI of players"
   ]
  },
  {
   "cell_type": "code",
   "execution_count": 26,
   "id": "1bae5896",
   "metadata": {},
   "outputs": [
    {
     "data": {
      "text/plain": [
       "array([1.47  , 1.4945, 1.5925, 1.6905, 1.7885, 1.9355, 1.6415, 1.5925,\n",
       "       1.5435, 1.6905, 1.4945])"
      ]
     },
     "execution_count": 26,
     "metadata": {},
     "output_type": "execute_result"
    }
   ],
   "source": [
    "#height of players in inches\n",
    "\n",
    "height_in=[60,61,65,69,73,79,67,65,63,69,61]\n",
    "ht_np=np.array(height_in)\n",
    "\n",
    "#Convert into meters\n",
    "ht_np=ht_np*0.0245\n",
    "ht_np"
   ]
  },
  {
   "cell_type": "code",
   "execution_count": 27,
   "id": "fddcec94",
   "metadata": {},
   "outputs": [
    {
     "data": {
      "text/plain": [
       "array([112.5 , 105.75, 108.  , 110.25, 114.75, 119.25, 121.5 , 126.  ,\n",
       "       135.  , 103.5 ,  99.  ])"
      ]
     },
     "execution_count": 27,
     "metadata": {},
     "output_type": "execute_result"
    }
   ],
   "source": [
    "#Weight of players \n",
    "weight_pd=[250,235,240,245,255,265,270,280,300,230,220]\n",
    "wt_np=np.array(weight_pd)\n",
    "\n",
    "#Convert into kg\n",
    "wt_np=wt_np*0.45\n",
    "wt_np"
   ]
  },
  {
   "cell_type": "code",
   "execution_count": 28,
   "id": "cafb2c8a",
   "metadata": {},
   "outputs": [
    {
     "data": {
      "text/plain": [
       "array([52.06164098, 47.34657164, 42.58580621, 38.57875854, 35.87358711,\n",
       "       31.83259445, 45.09148143, 49.68344058, 56.66573168, 36.21679373,\n",
       "       44.32445005])"
      ]
     },
     "execution_count": 28,
     "metadata": {},
     "output_type": "execute_result"
    }
   ],
   "source": [
    "#Calculate BMI value\n",
    "bmi=wt_np/ht_np**2\n",
    "bmi"
   ]
  },
  {
   "cell_type": "code",
   "execution_count": 29,
   "id": "0a027509",
   "metadata": {},
   "outputs": [
    {
     "data": {
      "text/plain": [
       "array([52.06164098, 47.34657164, 42.58580621, 45.09148143, 49.68344058,\n",
       "       56.66573168, 44.32445005])"
      ]
     },
     "execution_count": 29,
     "metadata": {},
     "output_type": "execute_result"
    }
   ],
   "source": [
    "bmi[bmi>40]"
   ]
  },
  {
   "cell_type": "code",
   "execution_count": 30,
   "id": "4b8f6507",
   "metadata": {},
   "outputs": [
    {
     "data": {
      "text/plain": [
       "array([[112.5   , 105.75  , 108.    , 110.25  , 114.75  , 119.25  ,\n",
       "        121.5   , 126.    , 135.    , 103.5   ,  99.    ],\n",
       "       [  1.47  ,   1.4945,   1.5925,   1.6905,   1.7885,   1.9355,\n",
       "          1.6415,   1.5925,   1.5435,   1.6905,   1.4945]])"
      ]
     },
     "execution_count": 30,
     "metadata": {},
     "output_type": "execute_result"
    }
   ],
   "source": [
    "players=np.array([wt_np,ht_np])\n",
    "players"
   ]
  },
  {
   "cell_type": "code",
   "execution_count": 31,
   "id": "b605738b",
   "metadata": {},
   "outputs": [
    {
     "data": {
      "text/plain": [
       "(2, 11)"
      ]
     },
     "execution_count": 31,
     "metadata": {},
     "output_type": "execute_result"
    }
   ],
   "source": [
    "players.shape"
   ]
  },
  {
   "cell_type": "code",
   "execution_count": 32,
   "id": "3d94fee1",
   "metadata": {},
   "outputs": [
    {
     "name": "stdout",
     "output_type": "stream",
     "text": [
      "[[112.5      1.47  ]\n",
      " [105.75     1.4945]\n",
      " [108.       1.5925]\n",
      " [110.25     1.6905]\n",
      " [114.75     1.7885]\n",
      " [119.25     1.9355]\n",
      " [121.5      1.6415]\n",
      " [126.       1.5925]\n",
      " [135.       1.5435]\n",
      " [103.5      1.6905]\n",
      " [ 99.       1.4945]]\n"
     ]
    },
    {
     "data": {
      "text/plain": [
       "(11, 2)"
      ]
     },
     "execution_count": 32,
     "metadata": {},
     "output_type": "execute_result"
    }
   ],
   "source": [
    "pT=players.T\n",
    "print(pT)\n",
    "pT.shape"
   ]
  },
  {
   "cell_type": "markdown",
   "id": "30f83a3e",
   "metadata": {},
   "source": [
    "# Statistical Operation"
   ]
  },
  {
   "cell_type": "code",
   "execution_count": 33,
   "id": "ba1fd4f7",
   "metadata": {},
   "outputs": [],
   "source": [
    "#min,max,mean,median,mode,var,std,corrcoef,perc"
   ]
  },
  {
   "cell_type": "code",
   "execution_count": 34,
   "id": "1bf20b93",
   "metadata": {},
   "outputs": [
    {
     "name": "stdout",
     "output_type": "stream",
     "text": [
      "1.9355\n",
      "135.0\n"
     ]
    }
   ],
   "source": [
    "print(np.amax(ht_np))\n",
    "print(np.amax(wt_np))"
   ]
  },
  {
   "cell_type": "code",
   "execution_count": 35,
   "id": "9fd7ba71",
   "metadata": {},
   "outputs": [
    {
     "name": "stdout",
     "output_type": "stream",
     "text": [
      "1.47\n",
      "99.0\n"
     ]
    }
   ],
   "source": [
    "print(np.amin(ht_np))\n",
    "print(np.amin(wt_np))"
   ]
  },
  {
   "cell_type": "code",
   "execution_count": 40,
   "id": "ac40d337",
   "metadata": {},
   "outputs": [
    {
     "name": "stdout",
     "output_type": "stream",
     "text": [
      "[[1.         0.15359728]\n",
      " [0.15359728 1.        ]]\n"
     ]
    }
   ],
   "source": [
    "print(np.corrcoef(ht_np,wt_np))"
   ]
  },
  {
   "cell_type": "markdown",
   "id": "8f8f7832",
   "metadata": {},
   "source": [
    "# BOOLEAN"
   ]
  },
  {
   "cell_type": "code",
   "execution_count": 43,
   "id": "7e97c234",
   "metadata": {},
   "outputs": [
    {
     "name": "stdout",
     "output_type": "stream",
     "text": [
      "[True, False, True, False, True]\n"
     ]
    },
    {
     "data": {
      "text/plain": [
       "array([ True, False,  True, False,  True])"
      ]
     },
     "execution_count": 43,
     "metadata": {},
     "output_type": "execute_result"
    }
   ],
   "source": [
    "#Boolean\n",
    "\n",
    "bools=[True,False,True,False,True]\n",
    "print(bools)\n",
    "b=np.array(bools)\n",
    "b"
   ]
  },
  {
   "cell_type": "code",
   "execution_count": 44,
   "id": "9b7fa224",
   "metadata": {},
   "outputs": [
    {
     "data": {
      "text/plain": [
       "3"
      ]
     },
     "execution_count": 44,
     "metadata": {},
     "output_type": "execute_result"
    }
   ],
   "source": [
    "b.sum()"
   ]
  },
  {
   "cell_type": "code",
   "execution_count": 45,
   "id": "6b25b019",
   "metadata": {},
   "outputs": [
    {
     "data": {
      "text/plain": [
       "True"
      ]
     },
     "execution_count": 45,
     "metadata": {},
     "output_type": "execute_result"
    }
   ],
   "source": [
    "b.any()"
   ]
  },
  {
   "cell_type": "code",
   "execution_count": 47,
   "id": "0b8348c8",
   "metadata": {},
   "outputs": [
    {
     "data": {
      "text/plain": [
       "False"
      ]
     },
     "execution_count": 47,
     "metadata": {},
     "output_type": "execute_result"
    }
   ],
   "source": [
    "b.all()"
   ]
  },
  {
   "cell_type": "code",
   "execution_count": 52,
   "id": "c3a0aa09",
   "metadata": {},
   "outputs": [
    {
     "data": {
      "text/plain": [
       "array(['b', 'b', 'b', 'b', 'c', 'c'], dtype='<U1')"
      ]
     },
     "execution_count": 52,
     "metadata": {},
     "output_type": "execute_result"
    }
   ],
   "source": [
    "n=np.array(['b','b','b','b','c','c'])\n",
    "n"
   ]
  },
  {
   "cell_type": "code",
   "execution_count": 53,
   "id": "31a7436b",
   "metadata": {},
   "outputs": [
    {
     "data": {
      "text/plain": [
       "array(['b', 'c'], dtype='<U1')"
      ]
     },
     "execution_count": 53,
     "metadata": {},
     "output_type": "execute_result"
    }
   ],
   "source": [
    "np.unique(n)"
   ]
  },
  {
   "cell_type": "code",
   "execution_count": null,
   "id": "5303fc2d",
   "metadata": {},
   "outputs": [],
   "source": []
  }
 ],
 "metadata": {
  "kernelspec": {
   "display_name": "Python 3 (ipykernel)",
   "language": "python",
   "name": "python3"
  },
  "language_info": {
   "codemirror_mode": {
    "name": "ipython",
    "version": 3
   },
   "file_extension": ".py",
   "mimetype": "text/x-python",
   "name": "python",
   "nbconvert_exporter": "python",
   "pygments_lexer": "ipython3",
   "version": "3.9.12"
  }
 },
 "nbformat": 4,
 "nbformat_minor": 5
}
